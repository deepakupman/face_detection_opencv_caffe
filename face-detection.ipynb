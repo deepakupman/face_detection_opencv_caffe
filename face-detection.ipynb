{
 "cells": [
  {
   "cell_type": "code",
   "execution_count": 1,
   "metadata": {
    "ExecuteTime": {
     "end_time": "2020-06-14T07:32:17.736223Z",
     "start_time": "2020-06-14T07:31:55.180723Z"
    }
   },
   "outputs": [],
   "source": [
    "import numpy as np\n",
    "import cv2"
   ]
  },
  {
   "cell_type": "code",
   "execution_count": 2,
   "metadata": {
    "ExecuteTime": {
     "end_time": "2020-06-14T07:32:18.236987Z",
     "start_time": "2020-06-14T07:32:17.742131Z"
    }
   },
   "outputs": [],
   "source": [
    "# model loading\n",
    "net = cv2.dnn.readNetFromCaffe(\"deploy.prototxt.txt\", \"res10_300x300_ssd_iter_140000.caffemodel\")"
   ]
  },
  {
   "cell_type": "code",
   "execution_count": 3,
   "metadata": {
    "ExecuteTime": {
     "end_time": "2020-06-14T07:32:18.599145Z",
     "start_time": "2020-06-14T07:32:18.239980Z"
    }
   },
   "outputs": [],
   "source": [
    "# image loading and pre-processing\n",
    "img = cv2.imread(\"rooster.jpg\")\n",
    "(h, w) = img.shape[:2]\n",
    "img = cv2.resize(img, (300, 300))\n",
    "blob = cv2.dnn.blobFromImage(img, 1.0, (300, 300), (104.0, 177.0, 123.0))"
   ]
  },
  {
   "cell_type": "code",
   "execution_count": 4,
   "metadata": {
    "ExecuteTime": {
     "end_time": "2020-06-14T07:32:19.085842Z",
     "start_time": "2020-06-14T07:32:18.603133Z"
    }
   },
   "outputs": [],
   "source": [
    "# set input for model\n",
    "net.setInput(blob)\n",
    "detections = net.forward()"
   ]
  },
  {
   "cell_type": "code",
   "execution_count": null,
   "metadata": {
    "ExecuteTime": {
     "start_time": "2020-06-14T07:31:57.744Z"
    }
   },
   "outputs": [
    {
     "name": "stdout",
     "output_type": "stream",
     "text": [
      "box:  [317, 82, 386, 184]\n",
      "conf: 74.30%\n"
     ]
    }
   ],
   "source": [
    "# loop over detections\n",
    "for i in range(detections.shape[2]):\n",
    "    confidence = detections[0, 0, i, 2]\n",
    "    # threshold\n",
    "    if (confidence > 0.5):\n",
    "        # print(\"Without (w, h) box = \", detections[0, 0, i, 3:7])\n",
    "        box = detections[0, 0, i, 3:7] * np.array([w, h, w, h])\n",
    "        (startX, startY, endX, endY) = box.astype('int')\n",
    "        print(\"box: \", [startX, startY, endX, endY])\n",
    "        \n",
    "        # draw bounding box\n",
    "        text = \"{:.2f}%\".format(confidence * 100)\n",
    "        print(\"conf:\", text)\n",
    "        y = startY - 10 if startY - 10 > 10 else startY + 10\n",
    "        cv2.rectangle(img, (startX, startY), (endX, endY), (0, 0, 255), 10)\n",
    "        cv2.putText(img, text, (startX, y), cv2.FONT_HERSHEY_SIMPLEX, 0.45, (0, 0, 255), 2)\n",
    "\n",
    "# show output image\n",
    "cv2.imshow(\"Output\", img)\n",
    "cv2.waitKey(0)"
   ]
  },
  {
   "cell_type": "code",
   "execution_count": null,
   "metadata": {},
   "outputs": [],
   "source": []
  }
 ],
 "metadata": {
  "kernelspec": {
   "display_name": "Python 3",
   "language": "python",
   "name": "python3"
  },
  "language_info": {
   "codemirror_mode": {
    "name": "ipython",
    "version": 3
   },
   "file_extension": ".py",
   "mimetype": "text/x-python",
   "name": "python",
   "nbconvert_exporter": "python",
   "pygments_lexer": "ipython3",
   "version": "3.6.6"
  }
 },
 "nbformat": 4,
 "nbformat_minor": 2
}
